{
 "cells": [
  {
   "cell_type": "code",
   "execution_count": 2,
   "id": "cbb264cb-f04e-4993-971f-a11a90a592f7",
   "metadata": {},
   "outputs": [],
   "source": [
    "import random\n",
    "import polars as pl\n",
    "from pymongo import MongoClient\n",
    "from datetime import datetime\n",
    "from pymongo import InsertOne\n",
    "import seaborn as sns\n",
    "import matplotlib.pyplot as plt\n",
    "import matplotlib.ticker as mticker\n",
    "import numpy as np\n",
    "import geopandas as gpd\n",
    "import matplotlib.cm as cm\n",
    "import contextily as ctx"
   ]
  },
  {
   "cell_type": "code",
   "execution_count": 3,
   "id": "bfc2dfda-026b-429c-ac7f-877bd0d4b056",
   "metadata": {},
   "outputs": [],
   "source": [
    "# Conectar a MongoDB\n",
    "client = MongoClient(\"mongodb://localhost:27017/\")\n",
    "database = client[\"ETIB_TFM\"]\n",
    "collection = database[\"transactions\"]"
   ]
  },
  {
   "cell_type": "code",
   "execution_count": 4,
   "id": "a7c37307-1af2-40ef-ae3b-7e2cfaf6bc4b",
   "metadata": {},
   "outputs": [
    {
     "name": "stdout",
     "output_type": "stream",
     "text": [
      "shape: (5, 23)\n",
      "┌────────────────┬─────────────┬────────────────┬────────────────┬───┬───────────────┬────────┬───────────────┬────────┐\n",
      "│ _id            ┆ Dispositivo ┆ Emisor         ┆ Estacion_Parad ┆ … ┆ Tipo_Vehiculo ┆ Valor  ┆ archivo       ┆ cenefa │\n",
      "│ ---            ┆ ---         ┆ ---            ┆ a              ┆   ┆ ---           ┆ ---    ┆ ---           ┆ ---    │\n",
      "│ object         ┆ str         ┆ str            ┆ ---            ┆   ┆ str           ┆ f64    ┆ str           ┆ str    │\n",
      "│                ┆             ┆                ┆ str            ┆   ┆               ┆        ┆               ┆        │\n",
      "╞════════════════╪═════════════╪════════════════╪════════════════╪═══╪═══════════════╪════════╪═══════════════╪════════╡\n",
      "│ 67471e1df909cb ┆ 220004413   ┆ (3101000)      ┆ (52973) 045A06 ┆ … ┆ (02) Urbano   ┆ 0.0    ┆ Validacion_01 ┆ 045A06 │\n",
      "│ e620eb3347     ┆             ┆ Bogota         ┆ _TM|045A06_Br. ┆   ┆               ┆        ┆ 7_E-SOMOS     ┆        │\n",
      "│                ┆             ┆ Card(Citizen)  ┆ S…             ┆   ┆               ┆        ┆ FONTIBO…      ┆        │\n",
      "│ 67471e31f909cb ┆ 220008315   ┆ (3200101)      ┆ (51346) 114B04 ┆ … ┆ (02) Urbano   ┆ 2950.0 ┆ Validacion_00 ┆ 114B04 │\n",
      "│ e620f34b11     ┆             ┆ Bancolombia    ┆ _TM|114B04_Br. ┆   ┆               ┆        ┆ 4_ESTE ES MI  ┆        │\n",
      "│                ┆             ┆                ┆ T…             ┆   ┆               ┆        ┆ BUS …         ┆        │\n",
      "│ 67471e2df909cb ┆ 220007464   ┆ (3101000)      ┆ (59109) 046B09 ┆ … ┆ (02) Urbano   ┆ 2950.0 ┆ Validacion_00 ┆ 046B09 │\n",
      "│ e620f1b9fc     ┆             ┆ Bogota         ┆ _TM|046B09_Hos ┆   ┆               ┆        ┆ 7_ETIB_202411 ┆        │\n",
      "│                ┆             ┆ Card(Citizen)  ┆ pi…            ┆   ┆               ┆        ┆ 10.c…         ┆        │\n",
      "│ 67471e2df909cb ┆ 220006774   ┆ (3101000)      ┆ (52485) 119B05 ┆ … ┆ (02) Urbano   ┆ 2950.0 ┆ Validacion_00 ┆ 119B05 │\n",
      "│ e620f1b9fd     ┆             ┆ Bogota         ┆ _TM|119B05_Col ┆   ┆               ┆        ┆ 7_ETIB_202411 ┆        │\n",
      "│                ┆             ┆ Card(Citizen)  ┆ is…            ┆   ┆               ┆        ┆ 10.c…         ┆        │\n",
      "│ 67471e2df909cb ┆ 220007464   ┆ (3101000)      ┆ (59109) 046B09 ┆ … ┆ (02) Urbano   ┆ 2950.0 ┆ Validacion_00 ┆ 046B09 │\n",
      "│ e620f1b9fe     ┆             ┆ Bogota         ┆ _TM|046B09_Hos ┆   ┆               ┆        ┆ 7_ETIB_202411 ┆        │\n",
      "│                ┆             ┆ Card(Citizen)  ┆ pi…            ┆   ┆               ┆        ┆ 10.c…         ┆        │\n",
      "└────────────────┴─────────────┴────────────────┴────────────────┴───┴───────────────┴────────┴───────────────┴────────┘\n"
     ]
    }
   ],
   "source": [
    "# Rango de fechas\n",
    "start_date = datetime(2024, 11, 11)\n",
    "end_date = datetime(2024, 11, 18)\n",
    "\n",
    "# Obtener los datos de MongoDB\n",
    "query = {\"Fecha_Transaccion\": {\"$gte\": start_date, \"$lt\": end_date}}\n",
    "cursor = collection.find(query)\n",
    "\n",
    "# Convertir los datos a un DataFrame de Polars\n",
    "df_polars = pl.DataFrame(cursor)\n",
    "\n",
    "# Mostrar las primeras filas del DataFrame\n",
    "print(df_polars.head())"
   ]
  },
  {
   "cell_type": "code",
   "execution_count": 5,
   "id": "3811e9dc-51f5-485f-afed-9659f22f4976",
   "metadata": {},
   "outputs": [
    {
     "data": {
      "text/plain": [
       "Schema([('_id', Object),\n",
       "        ('Dispositivo', String),\n",
       "        ('Emisor', String),\n",
       "        ('Estacion_Parada', String),\n",
       "        ('Fase', String),\n",
       "        ('Fecha_Clearing', String),\n",
       "        ('Fecha_Transaccion', Datetime(time_unit='us', time_zone=None)),\n",
       "        ('Hora_Pico_SN', String),\n",
       "        ('ID_Vehiculo', String),\n",
       "        ('Linea', String),\n",
       "        ('Nombre_Perfil', String),\n",
       "        ('Numero_Tarjeta', String),\n",
       "        ('Operador', String),\n",
       "        ('Ruta', String),\n",
       "        ('Saldo_Despues_Transaccion', Float64),\n",
       "        ('Saldo_Previo_a_Transaccion', Float64),\n",
       "        ('Sistema', String),\n",
       "        ('Tipo_Tarifa', String),\n",
       "        ('Tipo_Tarjeta', String),\n",
       "        ('Tipo_Vehiculo', String),\n",
       "        ('Valor', Float64),\n",
       "        ('archivo', String),\n",
       "        ('cenefa', String)])"
      ]
     },
     "execution_count": 5,
     "metadata": {},
     "output_type": "execute_result"
    }
   ],
   "source": [
    "df_polars.schema"
   ]
  },
  {
   "cell_type": "code",
   "execution_count": 6,
   "id": "0db272f4-bc54-49d4-82e6-b9b5e07fb138",
   "metadata": {},
   "outputs": [
    {
     "data": {
      "text/html": [
       "<div><style>\n",
       ".dataframe > thead > tr,\n",
       ".dataframe > tbody > tr {\n",
       "  text-align: right;\n",
       "  white-space: pre-wrap;\n",
       "}\n",
       "</style>\n",
       "<small>shape: (1, 23)</small><table border=\"1\" class=\"dataframe\"><thead><tr><th>_id</th><th>Dispositivo</th><th>Emisor</th><th>Estacion_Parada</th><th>Fase</th><th>Fecha_Clearing</th><th>Fecha_Transaccion</th><th>Hora_Pico_SN</th><th>ID_Vehiculo</th><th>Linea</th><th>Nombre_Perfil</th><th>Numero_Tarjeta</th><th>Operador</th><th>Ruta</th><th>Saldo_Despues_Transaccion</th><th>Saldo_Previo_a_Transaccion</th><th>Sistema</th><th>Tipo_Tarifa</th><th>Tipo_Tarjeta</th><th>Tipo_Vehiculo</th><th>Valor</th><th>archivo</th><th>cenefa</th></tr><tr><td>u32</td><td>u32</td><td>u32</td><td>u32</td><td>u32</td><td>u32</td><td>u32</td><td>u32</td><td>u32</td><td>u32</td><td>u32</td><td>u32</td><td>u32</td><td>u32</td><td>u32</td><td>u32</td><td>u32</td><td>u32</td><td>u32</td><td>u32</td><td>u32</td><td>u32</td><td>u32</td></tr></thead><tbody><tr><td>0</td><td>0</td><td>0</td><td>0</td><td>0</td><td>0</td><td>0</td><td>0</td><td>0</td><td>0</td><td>0</td><td>0</td><td>0</td><td>0</td><td>0</td><td>0</td><td>0</td><td>0</td><td>0</td><td>0</td><td>0</td><td>0</td><td>0</td></tr></tbody></table></div>"
      ],
      "text/plain": [
       "shape: (1, 23)\n",
       "┌─────┬─────────────┬────────┬─────────────────┬───┬───────────────┬───────┬─────────┬────────┐\n",
       "│ _id ┆ Dispositivo ┆ Emisor ┆ Estacion_Parada ┆ … ┆ Tipo_Vehiculo ┆ Valor ┆ archivo ┆ cenefa │\n",
       "│ --- ┆ ---         ┆ ---    ┆ ---             ┆   ┆ ---           ┆ ---   ┆ ---     ┆ ---    │\n",
       "│ u32 ┆ u32         ┆ u32    ┆ u32             ┆   ┆ u32           ┆ u32   ┆ u32     ┆ u32    │\n",
       "╞═════╪═════════════╪════════╪═════════════════╪═══╪═══════════════╪═══════╪═════════╪════════╡\n",
       "│ 0   ┆ 0           ┆ 0      ┆ 0               ┆ … ┆ 0             ┆ 0     ┆ 0       ┆ 0      │\n",
       "└─────┴─────────────┴────────┴─────────────────┴───┴───────────────┴───────┴─────────┴────────┘"
      ]
     },
     "execution_count": 6,
     "metadata": {},
     "output_type": "execute_result"
    }
   ],
   "source": [
    "df_polars.select(pl.col(\"*\").is_null().sum())    "
   ]
  },
  {
   "cell_type": "code",
   "execution_count": 7,
   "id": "deda7288-38e8-4dc7-9bc5-74dbd7a0a6e3",
   "metadata": {},
   "outputs": [
    {
     "data": {
      "text/html": [
       "<div><style>\n",
       ".dataframe > thead > tr,\n",
       ".dataframe > tbody > tr {\n",
       "  text-align: right;\n",
       "  white-space: pre-wrap;\n",
       "}\n",
       "</style>\n",
       "<small>shape: (9, 24)</small><table border=\"1\" class=\"dataframe\"><thead><tr><th>statistic</th><th>_id</th><th>Dispositivo</th><th>Emisor</th><th>Estacion_Parada</th><th>Fase</th><th>Fecha_Clearing</th><th>Fecha_Transaccion</th><th>Hora_Pico_SN</th><th>ID_Vehiculo</th><th>Linea</th><th>Nombre_Perfil</th><th>Numero_Tarjeta</th><th>Operador</th><th>Ruta</th><th>Saldo_Despues_Transaccion</th><th>Saldo_Previo_a_Transaccion</th><th>Sistema</th><th>Tipo_Tarifa</th><th>Tipo_Tarjeta</th><th>Tipo_Vehiculo</th><th>Valor</th><th>archivo</th><th>cenefa</th></tr><tr><td>str</td><td>str</td><td>str</td><td>str</td><td>str</td><td>str</td><td>str</td><td>str</td><td>str</td><td>str</td><td>str</td><td>str</td><td>str</td><td>str</td><td>str</td><td>f64</td><td>f64</td><td>str</td><td>str</td><td>str</td><td>str</td><td>f64</td><td>str</td><td>str</td></tr></thead><tbody><tr><td>&quot;count&quot;</td><td>&quot;11253225&quot;</td><td>&quot;11253225&quot;</td><td>&quot;11253225&quot;</td><td>&quot;11253225&quot;</td><td>&quot;11253225&quot;</td><td>&quot;11253225&quot;</td><td>&quot;11253225&quot;</td><td>&quot;11253225&quot;</td><td>&quot;11253225&quot;</td><td>&quot;11253225&quot;</td><td>&quot;11253225&quot;</td><td>&quot;11253225&quot;</td><td>&quot;11253225&quot;</td><td>&quot;11253225&quot;</td><td>1.1253225e7</td><td>1.1253225e7</td><td>&quot;11253225&quot;</td><td>&quot;11253225&quot;</td><td>&quot;11253225&quot;</td><td>&quot;11253225&quot;</td><td>1.1253225e7</td><td>&quot;11253225&quot;</td><td>&quot;11253225&quot;</td></tr><tr><td>&quot;null_count&quot;</td><td>&quot;0&quot;</td><td>&quot;0&quot;</td><td>&quot;0&quot;</td><td>&quot;0&quot;</td><td>&quot;0&quot;</td><td>&quot;0&quot;</td><td>&quot;0&quot;</td><td>&quot;0&quot;</td><td>&quot;0&quot;</td><td>&quot;0&quot;</td><td>&quot;0&quot;</td><td>&quot;0&quot;</td><td>&quot;0&quot;</td><td>&quot;0&quot;</td><td>0.0</td><td>0.0</td><td>&quot;0&quot;</td><td>&quot;0&quot;</td><td>&quot;0&quot;</td><td>&quot;0&quot;</td><td>0.0</td><td>&quot;0&quot;</td><td>&quot;0&quot;</td></tr><tr><td>&quot;mean&quot;</td><td>null</td><td>null</td><td>null</td><td>null</td><td>null</td><td>null</td><td>&quot;2024-11-14 10:15:05.113333&quot;</td><td>null</td><td>null</td><td>null</td><td>null</td><td>null</td><td>null</td><td>null</td><td>12984.382108</td><td>14981.481501</td><td>null</td><td>null</td><td>null</td><td>null</td><td>2174.861597</td><td>null</td><td>null</td></tr><tr><td>&quot;std&quot;</td><td>null</td><td>null</td><td>null</td><td>null</td><td>null</td><td>null</td><td>null</td><td>null</td><td>null</td><td>null</td><td>null</td><td>null</td><td>null</td><td>null</td><td>19212.327645</td><td>19331.902302</td><td>null</td><td>null</td><td>null</td><td>null</td><td>1248.936226</td><td>null</td><td>null</td></tr><tr><td>&quot;min&quot;</td><td>null</td><td>&quot;22&quot;</td><td>&quot;(3101000) Bogota Card(Citizen)&quot;</td><td>&quot;(49841) 080A01_TM|080A01_Br. L…</td><td>&quot;Fase 3&quot;</td><td>&quot;2024-11-10&quot;</td><td>&quot;2024-11-11 00:00:10&quot;</td><td>&quot;Peak Time&quot;</td><td>&quot;102018&quot;</td><td>&quot;(10001) 17-3 Modelia&quot;</td><td>&quot;(001) Adulto&quot;</td><td>&quot;000001c59b6d6c4e76c2b25f63cf52…</td><td>&quot;(001) CONSORCIO EXPRESS USAQUE…</td><td>&quot;(10004) HH710_V1&quot;</td><td>0.0</td><td>0.0</td><td>&quot;ZONAL&quot;</td><td>&quot;1&quot;</td><td>&quot;tullave Básica&quot;</td><td>&quot;(02) Urbano&quot;</td><td>0.0</td><td>&quot;Validacion_001_CONSORCIO EXPRE…</td><td>&quot;001A00&quot;</td></tr><tr><td>&quot;25%&quot;</td><td>null</td><td>null</td><td>null</td><td>null</td><td>null</td><td>null</td><td>&quot;2024-11-12 22:09:37&quot;</td><td>null</td><td>null</td><td>null</td><td>null</td><td>null</td><td>null</td><td>null</td><td>2300.0</td><td>4450.0</td><td>null</td><td>null</td><td>null</td><td>null</td><td>2500.0</td><td>null</td><td>null</td></tr><tr><td>&quot;50%&quot;</td><td>null</td><td>null</td><td>null</td><td>null</td><td>null</td><td>null</td><td>&quot;2024-11-14 09:09:49&quot;</td><td>null</td><td>null</td><td>null</td><td>null</td><td>null</td><td>null</td><td>null</td><td>6900.0</td><td>9150.0</td><td>null</td><td>null</td><td>null</td><td>null</td><td>2950.0</td><td>null</td><td>null</td></tr><tr><td>&quot;75%&quot;</td><td>null</td><td>null</td><td>null</td><td>null</td><td>null</td><td>null</td><td>&quot;2024-11-15 16:45:07&quot;</td><td>null</td><td>null</td><td>null</td><td>null</td><td>null</td><td>null</td><td>null</td><td>15750.0</td><td>17950.0</td><td>null</td><td>null</td><td>null</td><td>null</td><td>2950.0</td><td>null</td><td>null</td></tr><tr><td>&quot;max&quot;</td><td>null</td><td>&quot;220009981&quot;</td><td>&quot;(3200901) Banco de Bogotá&quot;</td><td>&quot;(73939) 668A13|668A13_Br. Alto…</td><td>&quot;Fase 3&quot;</td><td>&quot;2024-11-17&quot;</td><td>&quot;2024-11-17 23:58:05&quot;</td><td>&quot;Peak Time&quot;</td><td>&quot;937211&quot;</td><td>&quot;(1684) GH543&quot;</td><td>&quot;(101) Adulto PV&quot;</td><td>&quot;fffff6d484cfcd0551cc32b5862517…</td><td>&quot;(134) OPERADORA DISTRITAL DE T…</td><td>&quot;(8287) GH543_20241117_Ciclov�V…</td><td>418000.0</td><td>418000.0</td><td>&quot;ZONAL&quot;</td><td>&quot;3&quot;</td><td>&quot;tullave Plus&quot;</td><td>&quot;(02) Urbano&quot;</td><td>2950.0</td><td>&quot;Validacion_134_OPERADORA DISTR…</td><td>&quot;TC6Dora&quot;</td></tr></tbody></table></div>"
      ],
      "text/plain": [
       "shape: (9, 24)\n",
       "┌────────────┬──────────┬─────────────┬─────────────────┬───┬───────────────┬─────────────┬─────────────────┬──────────┐\n",
       "│ statistic  ┆ _id      ┆ Dispositivo ┆ Emisor          ┆ … ┆ Tipo_Vehiculo ┆ Valor       ┆ archivo         ┆ cenefa   │\n",
       "│ ---        ┆ ---      ┆ ---         ┆ ---             ┆   ┆ ---           ┆ ---         ┆ ---             ┆ ---      │\n",
       "│ str        ┆ str      ┆ str         ┆ str             ┆   ┆ str           ┆ f64         ┆ str             ┆ str      │\n",
       "╞════════════╪══════════╪═════════════╪═════════════════╪═══╪═══════════════╪═════════════╪═════════════════╪══════════╡\n",
       "│ count      ┆ 11253225 ┆ 11253225    ┆ 11253225        ┆ … ┆ 11253225      ┆ 1.1253225e7 ┆ 11253225        ┆ 11253225 │\n",
       "│ null_count ┆ 0        ┆ 0           ┆ 0               ┆ … ┆ 0             ┆ 0.0         ┆ 0               ┆ 0        │\n",
       "│ mean       ┆ null     ┆ null        ┆ null            ┆ … ┆ null          ┆ 2174.861597 ┆ null            ┆ null     │\n",
       "│ std        ┆ null     ┆ null        ┆ null            ┆ … ┆ null          ┆ 1248.936226 ┆ null            ┆ null     │\n",
       "│ min        ┆ null     ┆ 22          ┆ (3101000)       ┆ … ┆ (02) Urbano   ┆ 0.0         ┆ Validacion_001_ ┆ 001A00   │\n",
       "│            ┆          ┆             ┆ Bogota          ┆   ┆               ┆             ┆ CONSORCIO       ┆          │\n",
       "│            ┆          ┆             ┆ Card(Citizen)   ┆   ┆               ┆             ┆ EXPRE…          ┆          │\n",
       "│ 25%        ┆ null     ┆ null        ┆ null            ┆ … ┆ null          ┆ 2500.0      ┆ null            ┆ null     │\n",
       "│ 50%        ┆ null     ┆ null        ┆ null            ┆ … ┆ null          ┆ 2950.0      ┆ null            ┆ null     │\n",
       "│ 75%        ┆ null     ┆ null        ┆ null            ┆ … ┆ null          ┆ 2950.0      ┆ null            ┆ null     │\n",
       "│ max        ┆ null     ┆ 220009981   ┆ (3200901) Banco ┆ … ┆ (02) Urbano   ┆ 2950.0      ┆ Validacion_134_ ┆ TC6Dora  │\n",
       "│            ┆          ┆             ┆ de Bogotá       ┆   ┆               ┆             ┆ OPERADORA       ┆          │\n",
       "│            ┆          ┆             ┆                 ┆   ┆               ┆             ┆ DISTR…          ┆          │\n",
       "└────────────┴──────────┴─────────────┴─────────────────┴───┴───────────────┴─────────────┴─────────────────┴──────────┘"
      ]
     },
     "execution_count": 7,
     "metadata": {},
     "output_type": "execute_result"
    }
   ],
   "source": [
    "df_polars.describe()"
   ]
  },
  {
   "cell_type": "code",
   "execution_count": 8,
   "id": "581ed973-d1ad-4245-9d77-c49d7ad16245",
   "metadata": {},
   "outputs": [],
   "source": [
    "df_polars = df_polars.with_columns(\n",
    "    pl.col('Fecha_Transaccion').dt.hour().alias('Hora')\n",
    ")"
   ]
  },
  {
   "cell_type": "code",
   "execution_count": 9,
   "id": "7b9ed00c-5b37-4ee1-a91c-d5d3d7035c26",
   "metadata": {},
   "outputs": [],
   "source": [
    "cnames = {\n",
    "'aqua': '#00FFFF',\n",
    "'aquamarine': '#7FFFD4',\n",
    "'bisque': '#FFE4C4',\n",
    "'black': '#000000',\n",
    "'blanchedalmond': '#FFEBCD',\n",
    "'blue': '#0000FF',\n",
    "'blueviolet': '#8A2BE2',\n",
    "'brown': '#A52A2A',\n",
    "'burlywood': '#DEB887',\n",
    "'cadetblue': '#5F9EA0',\n",
    "'chartreuse': '#7FFF00',\n",
    "'chocolate': '#D2691E',\n",
    "'coral': '#FF7F50',\n",
    "'cornflowerblue': '#6495ED',\n",
    "'crimson': '#DC143C',\n",
    "'cyan': '#00FFFF',\n",
    "'darkblue': '#00008B',\n",
    "'darkcyan': '#008B8B',\n",
    "'darkgoldenrod': '#B8860B',\n",
    "'darkgray': '#A9A9A9',\n",
    "'darkgreen': '#006400',\n",
    "'darkkhaki': '#BDB76B',\n",
    "'darkmagenta': '#8B008B',\n",
    "'darkolivegreen': '#556B2F',\n",
    "'darkorange': '#FF8C00',\n",
    "'darkorchid': '#9932CC',\n",
    "'darkred': '#8B0000',\n",
    "'darksalmon': '#E9967A',\n",
    "'darkseagreen': '#8FBC8F',\n",
    "'darkslateblue': '#483D8B',\n",
    "'darkslategray': '#2F4F4F',\n",
    "'darkturquoise': '#00CED1',\n",
    "'darkviolet': '#9400D3',\n",
    "'deeppink': '#FF1493',\n",
    "'deepskyblue': '#00BFFF',\n",
    "'dodgerblue': '#1E90FF',\n",
    "'firebrick': '#B22222',\n",
    "'forestgreen': '#228B22',\n",
    "'fuchsia': '#FF00FF',\n",
    "'gainsboro': '#DCDCDC',\n",
    "'gold': '#FFD700',\n",
    "'goldenrod': '#DAA520',\n",
    "'gray': '#808080',\n",
    "'green': '#008000',\n",
    "'greenyellow': '#ADFF2F',\n",
    "'hotpink': '#FF69B4',\n",
    "'indianred': '#CD5C5C',\n",
    "'indigo': '#4B0082',\n",
    "'khaki': '#F0E68C',\n",
    "'lavender': '#E6E6FA',\n",
    "'lawngreen': '#7CFC00',\n",
    "'lightcoral': '#F08080',\n",
    "'lightcyan': '#E0FFFF',\n",
    "'lightgreen': '#90EE90',\n",
    "'lightsalmon': '#FFA07A',\n",
    "'lightseagreen': '#20B2AA',\n",
    "'lightskyblue': '#87CEFA',\n",
    "'lightsteelblue': '#B0C4DE',\n",
    "'lime': '#00FF00',\n",
    "'limegreen': '#32CD32',\n",
    "'linen': '#FAF0E6',\n",
    "'magenta': '#FF00FF',\n",
    "'maroon': '#800000',\n",
    "'mediumaquamarine': '#66CDAA',\n",
    "'mediumblue': '#0000CD',\n",
    "'mediumorchid': '#BA55D3',\n",
    "'mediumpurple': '#9370DB',\n",
    "'mediumseagreen': '#3CB371',\n",
    "'mediumslateblue': '#7B68EE',\n",
    "'mediumspringgreen': '#00FA9A',\n",
    "'mediumturquoise': '#48D1CC',\n",
    "'mediumvioletred': '#C71585',\n",
    "'midnightblue': '#191970',\n",
    "'mistyrose': '#FFE4E1',\n",
    "'moccasin': '#FFE4B5',\n",
    "'navy': '#000080',\n",
    "'olive': '#808000',\n",
    "'olivedrab': '#6B8E23',\n",
    "'orange': '#FFA500',\n",
    "'orangered': '#FF4500',\n",
    "'orchid': '#DA70D6',\n",
    "'palegoldenrod': '#EEE8AA',\n",
    "'palegreen': '#98FB98',\n",
    "'paleturquoise': '#AFEEEE',\n",
    "'palevioletred': '#DB7093',\n",
    "'papayawhip': '#FFEFD5',\n",
    "'peachpuff': '#FFDAB9',\n",
    "'peru': '#CD853F',\n",
    "'pink': '#FFC0CB',\n",
    "'plum': '#DDA0DD',\n",
    "'powderblue': '#B0E0E6',\n",
    "'purple': '#800080',\n",
    "'red': '#FF0000',\n",
    "'rosybrown': '#BC8F8F',\n",
    "'royalblue': '#4169E1',\n",
    "'saddlebrown': '#8B4513',\n",
    "'salmon': '#FA8072',\n",
    "'sandybrown': '#FAA460',\n",
    "'seagreen': '#2E8B57',\n",
    "'sienna': '#A0522D',\n",
    "'silver': '#C0C0C0',\n",
    "'skyblue': '#87CEEB',\n",
    "'slateblue': '#6A5ACD',\n",
    "'slategray': '#708090',\n",
    "'springgreen': '#00FF7F',\n",
    "'steelblue': '#4682B4',\n",
    "'tan': '#D2B48C',\n",
    "'teal': '#008080',\n",
    "'thistle': '#D8BFD8',\n",
    "'tomato': '#FF6347',\n",
    "'turquoise': '#40E0D0',\n",
    "'violet': '#EE82EE',\n",
    "'yellow': '#FFFF00',\n",
    "'yellowgreen': '#9ACD32'}\n",
    "colors = list(cnames.keys())"
   ]
  },
  {
   "cell_type": "code",
   "execution_count": 10,
   "id": "c5804640-f852-49b2-8db2-b01969fcc3a6",
   "metadata": {},
   "outputs": [
    {
     "data": {
      "image/png": "[encoded data removed]",
      "text/plain": [
       "<Figure size 640x480 with 1 Axes>"
      ]
     },
     "metadata": {},
     "output_type": "display_data"
    }
   ],
   "source": [
    "random.shuffle(colors)\n",
    "un, count = np.unique(df_polars['Hora'],return_counts=True)\n",
    "plt.title(\"Transacciones por Hora\")\n",
    "plt.xlabel(\"Hora\")\n",
    "plt.ylabel(\"Count\")\n",
    "plt.tick_params(bottom=False,left=False)\n",
    "plt.bar(un,count,color=colors)\n",
    "plt.show()"
   ]
  },
  {
   "cell_type": "code",
   "execution_count": 11,
   "id": "9f51aece-71d0-476a-b33c-a051f300ee3e",
   "metadata": {},
   "outputs": [],
   "source": [
    "# Extraer el año, mes y día de la columna 'Fecha_Transaccion'\n",
    "df_polars = df_polars.with_columns([\n",
    "    pl.col(\"Fecha_Transaccion\").dt.year().alias(\"Año\"),\n",
    "    pl.col(\"Fecha_Transaccion\").dt.month().alias(\"Mes\"),\n",
    "    pl.col(\"Fecha_Transaccion\").dt.day().alias(\"Día\")\n",
    "])\n",
    "\n",
    "# Crear una nueva columna que combine Año, Mes y Día como un string (si lo deseas)\n",
    "df_polars = df_polars.with_columns(\n",
    "    (pl.col(\"Año\").cast(pl.Utf8) + \"-\" +\n",
    "     pl.col(\"Mes\").cast(pl.Utf8).str.zfill(2) + \"-\" +\n",
    "     pl.col(\"Día\").cast(pl.Utf8).str.zfill(2)).alias(\"Fecha\")\n",
    ")"
   ]
  },
  {
   "cell_type": "code",
   "execution_count": 12,
   "id": "7fcec8dc-6aec-4706-ac5f-f83740773de1",
   "metadata": {},
   "outputs": [
    {
     "data": {
      "image/png": "[encoded data removed]",
      "text/plain": [
       "<Figure size 640x480 with 1 Axes>"
      ]
     },
     "metadata": {},
     "output_type": "display_data"
    }
   ],
   "source": [
    "random.shuffle(colors)\n",
    "un, count = np.unique(df_polars['Fecha'],return_counts=True)\n",
    "plt.title(\"Transacciones por Fecha (Mes-Día-Año)\")\n",
    "plt.xlabel(\"Fecha\")\n",
    "plt.ylabel(\"Count\")\n",
    "plt.tick_params(bottom=False,left=False)\n",
    "plt.gca().yaxis.set_major_formatter(mticker.StrMethodFormatter('{x:,.0f}'))\n",
    "plt.bar(un,count,color=colors)\n",
    "plt.xticks(rotation=90)\n",
    "plt.show()"
   ]
  },
  {
   "cell_type": "code",
   "execution_count": 12,
   "id": "bf9e1ad0-7ca3-4fe2-b3f3-406d01b7905a",
   "metadata": {},
   "outputs": [
    {
     "data": {
      "image/png": "[encoded data removed]",
      "text/plain": [
       "<Figure size 640x480 with 1 Axes>"
      ]
     },
     "metadata": {},
     "output_type": "display_data"
    }
   ],
   "source": [
    "random.shuffle(colors)\n",
    "un, count = np.unique(df_polars['Tipo_Tarjeta'],return_counts=True)\n",
    "plt.title(\"Transacciones por Tipo Tarjeta\")\n",
    "plt.xlabel(\"Tipo Tarjeta\")\n",
    "plt.ylabel(\"Count\")\n",
    "plt.tick_params(bottom=False,left=False)\n",
    "plt.gca().yaxis.set_major_formatter(mticker.StrMethodFormatter('{x:,.0f}'))\n",
    "plt.bar(un,count,color=colors)\n",
    "plt.show()"
   ]
  },
  {
   "cell_type": "code",
   "execution_count": 13,
   "id": "034326a0-516f-40cf-96dc-a8ae13f6c108",
   "metadata": {},
   "outputs": [
    {
     "data": {
      "image/png": "[encoded data removed]",
      "text/plain": [
       "<Figure size 800x600 with 1 Axes>"
      ]
     },
     "metadata": {},
     "output_type": "display_data"
    }
   ],
   "source": [
    "# Obtener los valores únicos y sus conteos\n",
    "un, count = np.unique(df_polars['Nombre_Perfil'], return_counts=True)\n",
    "\n",
    "# Crear el gráfico de pastel\n",
    "plt.figure(figsize=(8, 6))  # Definir el tamaño de la figura\n",
    "plt.pie(count, labels=None, autopct='%1.1f%%', startangle=90, labeldistance=.6, textprops={'fontsize': 9},  pctdistance=1.10)\n",
    "\n",
    "# Título del gráfico\n",
    "plt.title(\"Transacciones por Nombre Perfil\")\n",
    "\n",
    "# Colocar la leyenda por fuera\n",
    "plt.legend(un, loc='center left', bbox_to_anchor=(1.2, 0.5), fontsize='small')  # Ajusta la posición de la leyenda\n",
    "\n",
    "# Mostrar el gráfico\n",
    "plt.show()"
   ]
  },
  {
   "cell_type": "code",
   "execution_count": 14,
   "id": "6b33e3c5-b61e-41fd-9c31-9d72ad177669",
   "metadata": {},
   "outputs": [
    {
     "data": {
      "image/png": "[encoded data removed]",
      "text/plain": [
       "<Figure size 640x480 with 1 Axes>"
      ]
     },
     "metadata": {},
     "output_type": "display_data"
    }
   ],
   "source": [
    "random.shuffle(colors)\n",
    "un, count = np.unique(df_polars['Tipo_Tarifa'],return_counts=True)\n",
    "plt.title(\"Transacciones por Tipo Tarifa\")\n",
    "plt.xlabel(\"Tipo Tarifa\")\n",
    "plt.ylabel(\"Count\")\n",
    "plt.tick_params(bottom=False,left=False)\n",
    "plt.gca().yaxis.set_major_formatter(mticker.StrMethodFormatter('{x:,.0f}'))\n",
    "plt.bar(un,count,color=colors)\n",
    "plt.show()"
   ]
  },
  {
   "cell_type": "code",
   "execution_count": 15,
   "id": "a5bcc4d2-8efd-4fe5-9774-c7b4c1cee119",
   "metadata": {},
   "outputs": [],
   "source": [
    "cursorStops = list(database.bus_stops.find({}, {\"cenefa\": 1, \"longitud_paradero\": 1, \"latitud_paradero\": 1, \"_id\": 0}))\n",
    "\n",
    "# Convertir el resultado a un DataFrame de Polars\n",
    "df_busStops = pl.DataFrame(cursorStops)"
   ]
  },
  {
   "cell_type": "code",
   "execution_count": 16,
   "id": "a3e20bbf-d3aa-45d9-922c-931d3a4e6b25",
   "metadata": {},
   "outputs": [
    {
     "data": {
      "text/html": [
       "<div><style>\n",
       ".dataframe > thead > tr,\n",
       ".dataframe > tbody > tr {\n",
       "  text-align: right;\n",
       "  white-space: pre-wrap;\n",
       "}\n",
       "</style>\n",
       "<small>shape: (9, 4)</small><table border=\"1\" class=\"dataframe\"><thead><tr><th>statistic</th><th>cenefa</th><th>longitud_paradero</th><th>latitud_paradero</th></tr><tr><td>str</td><td>str</td><td>f64</td><td>f64</td></tr></thead><tbody><tr><td>&quot;count&quot;</td><td>&quot;7699&quot;</td><td>7699.0</td><td>7699.0</td></tr><tr><td>&quot;null_count&quot;</td><td>&quot;0&quot;</td><td>0.0</td><td>0.0</td></tr><tr><td>&quot;mean&quot;</td><td>null</td><td>-74.109088</td><td>4.640245</td></tr><tr><td>&quot;std&quot;</td><td>null</td><td>0.043989</td><td>0.067816</td></tr><tr><td>&quot;min&quot;</td><td>&quot;001A00&quot;</td><td>-74.215145</td><td>4.404931</td></tr><tr><td>&quot;25%&quot;</td><td>null</td><td>-74.141982</td><td>4.591301</td></tr><tr><td>&quot;50%&quot;</td><td>null</td><td>-74.108588</td><td>4.633864</td></tr><tr><td>&quot;75%&quot;</td><td>null</td><td>-74.077458</td><td>4.693443</td></tr><tr><td>&quot;max&quot;</td><td>&quot;BD-066A&quot;</td><td>-74.013119</td><td>4.820427</td></tr></tbody></table></div>"
      ],
      "text/plain": [
       "shape: (9, 4)\n",
       "┌────────────┬─────────┬───────────────────┬──────────────────┐\n",
       "│ statistic  ┆ cenefa  ┆ longitud_paradero ┆ latitud_paradero │\n",
       "│ ---        ┆ ---     ┆ ---               ┆ ---              │\n",
       "│ str        ┆ str     ┆ f64               ┆ f64              │\n",
       "╞════════════╪═════════╪═══════════════════╪══════════════════╡\n",
       "│ count      ┆ 7699    ┆ 7699.0            ┆ 7699.0           │\n",
       "│ null_count ┆ 0       ┆ 0.0               ┆ 0.0              │\n",
       "│ mean       ┆ null    ┆ -74.109088        ┆ 4.640245         │\n",
       "│ std        ┆ null    ┆ 0.043989          ┆ 0.067816         │\n",
       "│ min        ┆ 001A00  ┆ -74.215145        ┆ 4.404931         │\n",
       "│ 25%        ┆ null    ┆ -74.141982        ┆ 4.591301         │\n",
       "│ 50%        ┆ null    ┆ -74.108588        ┆ 4.633864         │\n",
       "│ 75%        ┆ null    ┆ -74.077458        ┆ 4.693443         │\n",
       "│ max        ┆ BD-066A ┆ -74.013119        ┆ 4.820427         │\n",
       "└────────────┴─────────┴───────────────────┴──────────────────┘"
      ]
     },
     "execution_count": 16,
     "metadata": {},
     "output_type": "execute_result"
    }
   ],
   "source": [
    "df_busStops.describe()"
   ]
  },
  {
   "cell_type": "code",
   "execution_count": 17,
   "id": "0f33ed8d-e8bd-425a-ab4c-ea477c3ef815",
   "metadata": {},
   "outputs": [
    {
     "data": {
      "text/plain": [
       "Schema([('cenefa', String),\n",
       "        ('longitud_paradero', Float64),\n",
       "        ('latitud_paradero', Float64)])"
      ]
     },
     "execution_count": 17,
     "metadata": {},
     "output_type": "execute_result"
    }
   ],
   "source": [
    "df_busStops.schema"
   ]
  },
  {
   "cell_type": "code",
   "execution_count": 18,
   "id": "c090e35d-a528-4156-b6db-c55643ac3d3f",
   "metadata": {},
   "outputs": [
    {
     "data": {
      "text/html": [
       "<div><style>\n",
       ".dataframe > thead > tr,\n",
       ".dataframe > tbody > tr {\n",
       "  text-align: right;\n",
       "  white-space: pre-wrap;\n",
       "}\n",
       "</style>\n",
       "<small>shape: (1, 3)</small><table border=\"1\" class=\"dataframe\"><thead><tr><th>cenefa</th><th>longitud_paradero</th><th>latitud_paradero</th></tr><tr><td>u32</td><td>u32</td><td>u32</td></tr></thead><tbody><tr><td>0</td><td>0</td><td>0</td></tr></tbody></table></div>"
      ],
      "text/plain": [
       "shape: (1, 3)\n",
       "┌────────┬───────────────────┬──────────────────┐\n",
       "│ cenefa ┆ longitud_paradero ┆ latitud_paradero │\n",
       "│ ---    ┆ ---               ┆ ---              │\n",
       "│ u32    ┆ u32               ┆ u32              │\n",
       "╞════════╪═══════════════════╪══════════════════╡\n",
       "│ 0      ┆ 0                 ┆ 0                │\n",
       "└────────┴───────────────────┴──────────────────┘"
      ]
     },
     "execution_count": 18,
     "metadata": {},
     "output_type": "execute_result"
    }
   ],
   "source": [
    "df_busStops.select(pl.col(\"*\").is_null().sum())"
   ]
  },
  {
   "cell_type": "code",
   "execution_count": 19,
   "id": "dbdd1684-de86-4266-bd4c-79a693dcbc52",
   "metadata": {},
   "outputs": [],
   "source": [
    "df_merge = df_polars.join(df_busStops, on=\"cenefa\", how=\"left\")"
   ]
  },
  {
   "cell_type": "code",
   "execution_count": 20,
   "id": "b8457af1-7ccd-4eaf-87f4-6061d09c8c51",
   "metadata": {},
   "outputs": [
    {
     "data": {
      "text/plain": [
       "Schema([('_id', Object),\n",
       "        ('Dispositivo', String),\n",
       "        ('Emisor', String),\n",
       "        ('Estacion_Parada', String),\n",
       "        ('Fase', String),\n",
       "        ('Fecha_Clearing', String),\n",
       "        ('Fecha_Transaccion', Datetime(time_unit='us', time_zone=None)),\n",
       "        ('Hora_Pico_SN', String),\n",
       "        ('ID_Vehiculo', String),\n",
       "        ('Linea', String),\n",
       "        ('Nombre_Perfil', String),\n",
       "        ('Numero_Tarjeta', String),\n",
       "        ('Operador', String),\n",
       "        ('Ruta', String),\n",
       "        ('Saldo_Despues_Transaccion', Float64),\n",
       "        ('Saldo_Previo_a_Transaccion', Float64),\n",
       "        ('Sistema', String),\n",
       "        ('Tipo_Tarifa', String),\n",
       "        ('Tipo_Tarjeta', String),\n",
       "        ('Tipo_Vehiculo', String),\n",
       "        ('Valor', Float64),\n",
       "        ('archivo', String),\n",
       "        ('cenefa', String),\n",
       "        ('Hora', Int8),\n",
       "        ('Año', Int32),\n",
       "        ('Mes', Int8),\n",
       "        ('Día', Int8),\n",
       "        ('Fecha', String),\n",
       "        ('longitud_paradero', Float64),\n",
       "        ('latitud_paradero', Float64)])"
      ]
     },
     "execution_count": 20,
     "metadata": {},
     "output_type": "execute_result"
    }
   ],
   "source": [
    "df_merge.schema"
   ]
  },
  {
   "cell_type": "code",
   "execution_count": 21,
   "id": "f6b76cd2-4ebf-4cb3-b6dc-2679512a232c",
   "metadata": {},
   "outputs": [
    {
     "name": "stdout",
     "output_type": "stream",
     "text": [
      "shape: (1, 3)\n",
      "┌─────────────────────────┬────────────────────────┬────────────┐\n",
      "│ longitud_paradero_nulos ┆ latitud_paradero_nulos ┆ Ruta_nulos │\n",
      "│ ---                     ┆ ---                    ┆ ---        │\n",
      "│ u32                     ┆ u32                    ┆ u32        │\n",
      "╞═════════════════════════╪════════════════════════╪════════════╡\n",
      "│ 249239                  ┆ 249239                 ┆ 0          │\n",
      "└─────────────────────────┴────────────────────────┴────────────┘\n"
     ]
    }
   ],
   "source": [
    "print(df_merge.select([\n",
    "    pl.col(\"longitud_paradero\").null_count().alias(\"longitud_paradero_nulos\"),\n",
    "    pl.col(\"latitud_paradero\").null_count().alias(\"latitud_paradero_nulos\"),\n",
    "    pl.col(\"Ruta\").null_count().alias(\"Ruta_nulos\")\n",
    "]))"
   ]
  },
  {
   "cell_type": "code",
   "execution_count": 22,
   "id": "847b1332-cae5-4a78-ab6a-4a4860c07d04",
   "metadata": {},
   "outputs": [],
   "source": [
    "df_merge_clean = df_merge.drop_nulls(subset=['longitud_paradero', 'latitud_paradero', 'Ruta'])"
   ]
  },
  {
   "cell_type": "code",
   "execution_count": 23,
   "id": "49f71cf2-a488-4917-b4f1-56eaa6de50a1",
   "metadata": {},
   "outputs": [
    {
     "data": {
      "text/html": [
       "<div>\n",
       "<style scoped>\n",
       "    .dataframe tbody tr th:only-of-type {\n",
       "        vertical-align: middle;\n",
       "    }\n",
       "\n",
       "    .dataframe tbody tr th {\n",
       "        vertical-align: top;\n",
       "    }\n",
       "\n",
       "    .dataframe thead th {\n",
       "        text-align: right;\n",
       "    }\n",
       "</style>\n",
       "<table border=\"1\" class=\"dataframe\">\n",
       "  <thead>\n",
       "    <tr style=\"text-align: right;\">\n",
       "      <th></th>\n",
       "      <th>LocNombre</th>\n",
       "      <th>LocAAdmini</th>\n",
       "      <th>LocArea</th>\n",
       "      <th>LocCodigo</th>\n",
       "      <th>SHAPE_Leng</th>\n",
       "      <th>SHAPE_Area</th>\n",
       "      <th>geometry</th>\n",
       "    </tr>\n",
       "  </thead>\n",
       "  <tbody>\n",
       "    <tr>\n",
       "      <th>0</th>\n",
       "      <td>ANTONIO NARIÑO</td>\n",
       "      <td>Acuerdo 117 de 2003</td>\n",
       "      <td>4.879543e+06</td>\n",
       "      <td>15</td>\n",
       "      <td>0.108973</td>\n",
       "      <td>0.000397</td>\n",
       "      <td>POLYGON ((-74.13075 4.59335, -74.12917 4.59327...</td>\n",
       "    </tr>\n",
       "    <tr>\n",
       "      <th>1</th>\n",
       "      <td>TUNJUELITO</td>\n",
       "      <td>Acuerdo 117 de 2003</td>\n",
       "      <td>9.910940e+06</td>\n",
       "      <td>06</td>\n",
       "      <td>0.210542</td>\n",
       "      <td>0.000807</td>\n",
       "      <td>POLYGON ((-74.13777 4.59489, -74.13165 4.59363...</td>\n",
       "    </tr>\n",
       "    <tr>\n",
       "      <th>2</th>\n",
       "      <td>RAFAEL URIBE URIBE</td>\n",
       "      <td>Acuerdo 117 de 2003</td>\n",
       "      <td>1.383408e+07</td>\n",
       "      <td>18</td>\n",
       "      <td>0.174513</td>\n",
       "      <td>0.001126</td>\n",
       "      <td>POLYGON ((-74.12803 4.59254, -74.12777 4.59233...</td>\n",
       "    </tr>\n",
       "    <tr>\n",
       "      <th>3</th>\n",
       "      <td>CANDELARIA</td>\n",
       "      <td>Acuerdo 117 de 2003</td>\n",
       "      <td>2.060243e+06</td>\n",
       "      <td>17</td>\n",
       "      <td>0.067158</td>\n",
       "      <td>0.000168</td>\n",
       "      <td>POLYGON ((-74.06621 4.60317, -74.0662 4.60317,...</td>\n",
       "    </tr>\n",
       "    <tr>\n",
       "      <th>4</th>\n",
       "      <td>BARRIOS UNIDOS</td>\n",
       "      <td>Acuerdo 8 de 1977</td>\n",
       "      <td>1.190345e+07</td>\n",
       "      <td>12</td>\n",
       "      <td>0.121180</td>\n",
       "      <td>0.000969</td>\n",
       "      <td>POLYGON ((-74.05725 4.68684, -74.06249 4.65594...</td>\n",
       "    </tr>\n",
       "    <tr>\n",
       "      <th>5</th>\n",
       "      <td>TEUSAQUILLO</td>\n",
       "      <td>Acuerdo 8 de 1977</td>\n",
       "      <td>1.419317e+07</td>\n",
       "      <td>13</td>\n",
       "      <td>0.148314</td>\n",
       "      <td>0.001156</td>\n",
       "      <td>POLYGON ((-74.09372 4.66607, -74.09332 4.66574...</td>\n",
       "    </tr>\n",
       "    <tr>\n",
       "      <th>6</th>\n",
       "      <td>PUENTE ARANDA</td>\n",
       "      <td>Acuerdo 8 de 1977</td>\n",
       "      <td>1.731115e+07</td>\n",
       "      <td>16</td>\n",
       "      <td>0.161116</td>\n",
       "      <td>0.001410</td>\n",
       "      <td>POLYGON ((-74.1183 4.63741, -74.11504 4.64053,...</td>\n",
       "    </tr>\n",
       "    <tr>\n",
       "      <th>7</th>\n",
       "      <td>LOS MARTIRES</td>\n",
       "      <td>Acuerdo 8 de 1977</td>\n",
       "      <td>6.514046e+06</td>\n",
       "      <td>14</td>\n",
       "      <td>0.099382</td>\n",
       "      <td>0.000530</td>\n",
       "      <td>POLYGON ((-74.07283 4.61542, -74.07311 4.6148,...</td>\n",
       "    </tr>\n",
       "    <tr>\n",
       "      <th>9</th>\n",
       "      <td>USAQUEN</td>\n",
       "      <td>Acuerdo 8 de 1977 y Res 1751 de 2016</td>\n",
       "      <td>6.520141e+07</td>\n",
       "      <td>01</td>\n",
       "      <td>0.436907</td>\n",
       "      <td>0.005310</td>\n",
       "      <td>POLYGON ((-74.01116 4.66459, -74.01117 4.6646,...</td>\n",
       "    </tr>\n",
       "    <tr>\n",
       "      <th>10</th>\n",
       "      <td>CHAPINERO</td>\n",
       "      <td>Acuerdo 8 de 1977 y Res 1751 de 2016</td>\n",
       "      <td>3.800891e+07</td>\n",
       "      <td>02</td>\n",
       "      <td>0.333966</td>\n",
       "      <td>0.003095</td>\n",
       "      <td>POLYGON ((-74.01116 4.66459, -74.01154 4.66461...</td>\n",
       "    </tr>\n",
       "    <tr>\n",
       "      <th>11</th>\n",
       "      <td>SANTA FE</td>\n",
       "      <td>Acuerdo 117 de 2003</td>\n",
       "      <td>4.517065e+07</td>\n",
       "      <td>03</td>\n",
       "      <td>0.395052</td>\n",
       "      <td>0.003678</td>\n",
       "      <td>POLYGON ((-73.99446 4.61425, -73.99457 4.61414...</td>\n",
       "    </tr>\n",
       "    <tr>\n",
       "      <th>12</th>\n",
       "      <td>SAN CRISTOBAL</td>\n",
       "      <td>Acuerdo 117 de 2003</td>\n",
       "      <td>4.909855e+07</td>\n",
       "      <td>04</td>\n",
       "      <td>0.363689</td>\n",
       "      <td>0.003998</td>\n",
       "      <td>POLYGON ((-74.029 4.5583, -74.0293 4.55821, -7...</td>\n",
       "    </tr>\n",
       "    <tr>\n",
       "      <th>15</th>\n",
       "      <td>BOSA</td>\n",
       "      <td>Acuerdo 14 de 1983</td>\n",
       "      <td>2.393320e+07</td>\n",
       "      <td>07</td>\n",
       "      <td>0.307901</td>\n",
       "      <td>0.001949</td>\n",
       "      <td>POLYGON ((-74.18567 4.64705, -74.1848 4.64497,...</td>\n",
       "    </tr>\n",
       "    <tr>\n",
       "      <th>16</th>\n",
       "      <td>KENNEDY</td>\n",
       "      <td>Acuerdo 8 de 1977</td>\n",
       "      <td>3.858973e+07</td>\n",
       "      <td>08</td>\n",
       "      <td>0.283582</td>\n",
       "      <td>0.003143</td>\n",
       "      <td>POLYGON ((-74.18567 4.64705, -74.18527 4.64699...</td>\n",
       "    </tr>\n",
       "    <tr>\n",
       "      <th>17</th>\n",
       "      <td>FONTIBON</td>\n",
       "      <td>Acuerdo 8 de 1977</td>\n",
       "      <td>3.328100e+07</td>\n",
       "      <td>09</td>\n",
       "      <td>0.321915</td>\n",
       "      <td>0.002710</td>\n",
       "      <td>POLYGON ((-74.15857 4.66274, -74.15848 4.66279...</td>\n",
       "    </tr>\n",
       "    <tr>\n",
       "      <th>18</th>\n",
       "      <td>ENGATIVA</td>\n",
       "      <td>Acuerdo 8 de 1977</td>\n",
       "      <td>3.588097e+07</td>\n",
       "      <td>10</td>\n",
       "      <td>0.291966</td>\n",
       "      <td>0.002922</td>\n",
       "      <td>POLYGON ((-74.15547 4.71798, -74.15547 4.71798...</td>\n",
       "    </tr>\n",
       "    <tr>\n",
       "      <th>19</th>\n",
       "      <td>SUBA</td>\n",
       "      <td>Acuerdo 8 de 1977</td>\n",
       "      <td>1.005605e+08</td>\n",
       "      <td>11</td>\n",
       "      <td>0.592875</td>\n",
       "      <td>0.008191</td>\n",
       "      <td>POLYGON ((-74.0345 4.82547, -74.03478 4.82418,...</td>\n",
       "    </tr>\n",
       "  </tbody>\n",
       "</table>\n",
       "</div>"
      ],
      "text/plain": [
       "             LocNombre                            LocAAdmini       LocArea  \\\n",
       "0       ANTONIO NARIÑO                   Acuerdo 117 de 2003  4.879543e+06   \n",
       "1           TUNJUELITO                   Acuerdo 117 de 2003  9.910940e+06   \n",
       "2   RAFAEL URIBE URIBE                   Acuerdo 117 de 2003  1.383408e+07   \n",
       "3           CANDELARIA                   Acuerdo 117 de 2003  2.060243e+06   \n",
       "4       BARRIOS UNIDOS                     Acuerdo 8 de 1977  1.190345e+07   \n",
       "5          TEUSAQUILLO                     Acuerdo 8 de 1977  1.419317e+07   \n",
       "6        PUENTE ARANDA                     Acuerdo 8 de 1977  1.731115e+07   \n",
       "7         LOS MARTIRES                     Acuerdo 8 de 1977  6.514046e+06   \n",
       "9              USAQUEN  Acuerdo 8 de 1977 y Res 1751 de 2016  6.520141e+07   \n",
       "10           CHAPINERO  Acuerdo 8 de 1977 y Res 1751 de 2016  3.800891e+07   \n",
       "11            SANTA FE                   Acuerdo 117 de 2003  4.517065e+07   \n",
       "12       SAN CRISTOBAL                   Acuerdo 117 de 2003  4.909855e+07   \n",
       "15                BOSA                    Acuerdo 14 de 1983  2.393320e+07   \n",
       "16             KENNEDY                     Acuerdo 8 de 1977  3.858973e+07   \n",
       "17            FONTIBON                     Acuerdo 8 de 1977  3.328100e+07   \n",
       "18            ENGATIVA                     Acuerdo 8 de 1977  3.588097e+07   \n",
       "19                SUBA                     Acuerdo 8 de 1977  1.005605e+08   \n",
       "\n",
       "   LocCodigo  SHAPE_Leng  SHAPE_Area  \\\n",
       "0         15    0.108973    0.000397   \n",
       "1         06    0.210542    0.000807   \n",
       "2         18    0.174513    0.001126   \n",
       "3         17    0.067158    0.000168   \n",
       "4         12    0.121180    0.000969   \n",
       "5         13    0.148314    0.001156   \n",
       "6         16    0.161116    0.001410   \n",
       "7         14    0.099382    0.000530   \n",
       "9         01    0.436907    0.005310   \n",
       "10        02    0.333966    0.003095   \n",
       "11        03    0.395052    0.003678   \n",
       "12        04    0.363689    0.003998   \n",
       "15        07    0.307901    0.001949   \n",
       "16        08    0.283582    0.003143   \n",
       "17        09    0.321915    0.002710   \n",
       "18        10    0.291966    0.002922   \n",
       "19        11    0.592875    0.008191   \n",
       "\n",
       "                                             geometry  \n",
       "0   POLYGON ((-74.13075 4.59335, -74.12917 4.59327...  \n",
       "1   POLYGON ((-74.13777 4.59489, -74.13165 4.59363...  \n",
       "2   POLYGON ((-74.12803 4.59254, -74.12777 4.59233...  \n",
       "3   POLYGON ((-74.06621 4.60317, -74.0662 4.60317,...  \n",
       "4   POLYGON ((-74.05725 4.68684, -74.06249 4.65594...  \n",
       "5   POLYGON ((-74.09372 4.66607, -74.09332 4.66574...  \n",
       "6   POLYGON ((-74.1183 4.63741, -74.11504 4.64053,...  \n",
       "7   POLYGON ((-74.07283 4.61542, -74.07311 4.6148,...  \n",
       "9   POLYGON ((-74.01116 4.66459, -74.01117 4.6646,...  \n",
       "10  POLYGON ((-74.01116 4.66459, -74.01154 4.66461...  \n",
       "11  POLYGON ((-73.99446 4.61425, -73.99457 4.61414...  \n",
       "12  POLYGON ((-74.029 4.5583, -74.0293 4.55821, -7...  \n",
       "15  POLYGON ((-74.18567 4.64705, -74.1848 4.64497,...  \n",
       "16  POLYGON ((-74.18567 4.64705, -74.18527 4.64699...  \n",
       "17  POLYGON ((-74.15857 4.66274, -74.15848 4.66279...  \n",
       "18  POLYGON ((-74.15547 4.71798, -74.15547 4.71798...  \n",
       "19  POLYGON ((-74.0345 4.82547, -74.03478 4.82418,...  "
      ]
     },
     "execution_count": 23,
     "metadata": {},
     "output_type": "execute_result"
    }
   ],
   "source": [
    "shapefile = gpd.read_file('../maps/Loca.shp')\n",
    "shapefile\n",
    "shapefile_filtered = shapefile[~shapefile['LocNombre'].isin(['USME', 'SUMAPAZ','CIUDAD BOLIVAR'])]\n",
    "shapefile_filtered"
   ]
  },
  {
   "cell_type": "code",
   "execution_count": 24,
   "id": "6da1ffab-cb67-4486-92d9-6df6b122275c",
   "metadata": {},
   "outputs": [
    {
     "name": "stderr",
     "output_type": "stream",
     "text": [
      "C:\\Users\\Gabo0\\AppData\\Local\\Temp\\ipykernel_11052\\93147225.py:5: DeprecationWarning: `GroupBy.count` is deprecated. It has been renamed to `len`.\n",
      "  route_counts = df_merge_clean.group_by('Ruta').count()\n",
      "C:\\Users\\Gabo0\\AppData\\Local\\Temp\\ipykernel_11052\\93147225.py:21: MatplotlibDeprecationWarning: The get_cmap function was deprecated in Matplotlib 3.7 and will be removed in 3.11. Use ``matplotlib.colormaps[name]`` or ``matplotlib.colormaps.get_cmap()`` or ``pyplot.get_cmap()`` instead.\n",
      "  colors = cm.get_cmap('tab10', len(top_10_routes))  # Se asegura que haya suficientes colores para las 20 rutas\n"
     ]
    }
   ],
   "source": [
    "# Cargar el shapefile de Bogotá\n",
    "shapefile = shapefile_filtered\n",
    "\n",
    "# Filtrar las transacciones por las 20 rutas más transaccionadas\n",
    "route_counts = df_merge_clean.group_by('Ruta').count()\n",
    "route_counts = route_counts.sort('count', descending=True)\n",
    "\n",
    "# Seleccionar las primeras 20 rutas con mayor número de transacciones\n",
    "top_10_routes = route_counts.head(10)['Ruta']\n",
    "\n",
    "# Filtrar el DataFrame original para mantener solo las rutas top 10\n",
    "df_top_10 = df_merge_clean.filter(df_merge_clean['Ruta'].is_in(top_10_routes))\n",
    "\n",
    "# Eliminar duplicados\n",
    "df_clean_unique = df_top_10.unique(subset=['Ruta', 'Fecha_Transaccion', 'cenefa', 'latitud_paradero', 'longitud_paradero'])\n",
    "\n",
    "# Convertir a Pandas para usar con Matplotlib\n",
    "df_clean_pandas = df_clean_unique.to_pandas()\n",
    "\n",
    "# Asignar colores a las rutas\n",
    "colors = cm.get_cmap('tab10', len(top_10_routes))  # Se asegura que haya suficientes colores para las 20 rutas\n",
    "\n",
    "# Iterar sobre las 20 rutas para crear un mapa para cada una\n",
    "for i, route in enumerate(top_10_routes):\n",
    "    # Crear el gráfico\n",
    "    fig, ax = plt.subplots(figsize=(10, 8))\n",
    "\n",
    "    # Dibujar el mapa base de Bogotá\n",
    "    shapefile.plot(ax=ax, color='lightgreen', alpha=0.5)\n",
    "\n",
    "    # Agregar la capa base de OpenStreetMap\n",
    "    ctx.add_basemap(ax, crs=shapefile.crs.to_string(), source=ctx.providers.OpenStreetMap.Mapnik)\n",
    "\n",
    "    # Filtrar los datos de la ruta actual\n",
    "    route_data = df_clean_pandas[df_clean_pandas['Ruta'] == route]\n",
    "\n",
    "    # Graficar los puntos de paraderos para la ruta actual\n",
    "    ax.scatter(route_data['longitud_paradero'], route_data['latitud_paradero'], \n",
    "               label=route, color=colors(i), alpha=0.7, s=10)\n",
    "\n",
    "    # Añadir título y etiquetas\n",
    "    ax.set_title(f\"Puntos de paraderos para la ruta: {route}\")\n",
    "    ax.set_xlabel(\"Longitud\")\n",
    "    ax.set_ylabel(\"Latitud\")\n",
    "\n",
    "    # Ajustar la leyenda para que no ocupe tanto espacio\n",
    "    ax.legend(title=\"Rutas\", loc='upper left', fontsize=8, bbox_to_anchor=(1.05, 1))\n",
    "\n",
    "    # Mostrar el mapa\n",
    "    plt.tight_layout()  # Ajustar el espacio para evitar recorte\n",
    "    # Guardar la imagen como archivo PNG\n",
    "    output_filename = f\"../images/mapa_ruta_{route}.png\"\n",
    "    plt.savefig(output_filename, dpi=300, bbox_inches='tight')\n",
    "\n",
    "    # Cerrar la figura después de guardarla\n",
    "    plt.close(fig)"
   ]
  },
  {
   "cell_type": "code",
   "execution_count": 38,
   "id": "be7511d3-9df2-4062-928f-5f680ff375dc",
   "metadata": {},
   "outputs": [
    {
     "data": {
      "text/plain": [
       "Collection(Database(MongoClient(host=['localhost:27017'], document_class=dict, tz_aware=False, connect=True), 'ETIB_TFM'), 'data_model')"
      ]
     },
     "execution_count": 38,
     "metadata": {},
     "output_type": "execute_result"
    }
   ],
   "source": [
    "# Crear la colección con validación de esquema para tu modelo de datos\n",
    "database.create_collection(\"data_model\", validator={\n",
    "    \"$jsonSchema\": {\n",
    "        \"bsonType\": \"object\",\n",
    "        \"required\": [\n",
    "            \"Dispositivo\", \"Emisor\", \"Estacion_Parada\", \"Fase\", \"Fecha_Clearing\",\n",
    "            \"Fecha_Transaccion\", \"Hora_Pico_SN\", \"ID_Vehiculo\", \"Linea\", \"Nombre_Perfil\",\n",
    "            \"Numero_Tarjeta\", \"Operador\", \"Ruta\", \"Saldo_Despues_Transaccion\", \n",
    "            \"Saldo_Previo_a_Transaccion\", \"Sistema\", \"Tipo_Tarifa\", \"Tipo_Tarjeta\",\n",
    "            \"Tipo_Vehiculo\", \"Valor\", \"archivo\", \"cenefa\", \"Hora\", \"Año\", \"Mes\", \"Día\", \n",
    "            \"Fecha\", \"longitud_paradero\", \"latitud_paradero\"\n",
    "        ],\n",
    "        \"properties\": {\n",
    "            \"Dispositivo\": {\"bsonType\": \"string\"},\n",
    "            \"Emisor\": {\"bsonType\": \"string\"},\n",
    "            \"Estacion_Parada\": {\"bsonType\": \"string\"},\n",
    "            \"Fase\": {\"bsonType\": \"string\"},\n",
    "            \"Fecha_Clearing\": {\"bsonType\": \"string\"},\n",
    "            \"Fecha_Transaccion\": {\"bsonType\": \"date\"},  # Asegurando que sea de tipo fecha\n",
    "            \"Hora_Pico_SN\": {\"bsonType\": \"string\"},\n",
    "            \"ID_Vehiculo\": {\"bsonType\": \"string\"},\n",
    "            \"Linea\": {\"bsonType\": \"string\"},\n",
    "            \"Nombre_Perfil\": {\"bsonType\": \"string\"},\n",
    "            \"Numero_Tarjeta\": {\"bsonType\": \"string\"},\n",
    "            \"Operador\": {\"bsonType\": \"string\"},\n",
    "            \"Ruta\": {\"bsonType\": \"string\"},\n",
    "            \"Saldo_Despues_Transaccion\": {\"bsonType\": \"double\"},  # Usar \"double\" para valores numéricos decimales\n",
    "            \"Saldo_Previo_a_Transaccion\": {\"bsonType\": \"double\"},\n",
    "            \"Sistema\": {\"bsonType\": \"string\"},\n",
    "            \"Tipo_Tarifa\": {\"bsonType\": \"string\"},\n",
    "            \"Tipo_Tarjeta\": {\"bsonType\": \"string\"},\n",
    "            \"Tipo_Vehiculo\": {\"bsonType\": \"string\"},\n",
    "            \"Valor\": {\"bsonType\": \"double\"},\n",
    "            \"archivo\": {\"bsonType\": \"string\"},\n",
    "            \"cenefa\": {\"bsonType\": \"string\"},\n",
    "            \"Hora\": {\"bsonType\": \"int\"},\n",
    "            \"Año\": {\"bsonType\": \"int\"},\n",
    "            \"Mes\": {\"bsonType\": \"int\"},\n",
    "            \"Día\": {\"bsonType\": \"int\"},\n",
    "            \"Fecha\": {\"bsonType\": \"string\"},\n",
    "            \"longitud_paradero\": {\"bsonType\": \"double\"},\n",
    "            \"latitud_paradero\": {\"bsonType\": \"double\"}\n",
    "        }\n",
    "    }\n",
    "})"
   ]
  },
  {
   "cell_type": "code",
   "execution_count": 41,
   "id": "a19ee301-4f1c-4bc9-acaa-e04c858db107",
   "metadata": {},
   "outputs": [
    {
     "name": "stdout",
     "output_type": "stream",
     "text": [
      "Batch 1 inserted successfully.\n",
      "Batch 2 inserted successfully.\n",
      "Batch 3 inserted successfully.\n",
      "Batch 4 inserted successfully.\n",
      "Batch 5 inserted successfully.\n",
      "Batch 6 inserted successfully.\n",
      "Batch 7 inserted successfully.\n",
      "Batch 8 inserted successfully.\n",
      "Batch 9 inserted successfully.\n",
      "Batch 10 inserted successfully.\n",
      "Batch 11 inserted successfully.\n",
      "Batch 12 inserted successfully.\n",
      "Batch 13 inserted successfully.\n",
      "Batch 14 inserted successfully.\n",
      "Batch 15 inserted successfully.\n",
      "Batch 16 inserted successfully.\n",
      "Batch 17 inserted successfully.\n",
      "Batch 18 inserted successfully.\n",
      "Batch 19 inserted successfully.\n",
      "Batch 20 inserted successfully.\n",
      "Batch 21 inserted successfully.\n",
      "Batch 22 inserted successfully.\n",
      "Batch 23 inserted successfully.\n",
      "Batch 24 inserted successfully.\n",
      "Batch 25 inserted successfully.\n",
      "Batch 26 inserted successfully.\n",
      "Batch 27 inserted successfully.\n",
      "Batch 28 inserted successfully.\n",
      "Batch 29 inserted successfully.\n",
      "Batch 30 inserted successfully.\n",
      "Batch 31 inserted successfully.\n",
      "Batch 32 inserted successfully.\n",
      "Batch 33 inserted successfully.\n",
      "Batch 34 inserted successfully.\n",
      "Batch 35 inserted successfully.\n",
      "Batch 36 inserted successfully.\n",
      "Batch 37 inserted successfully.\n",
      "Batch 38 inserted successfully.\n",
      "Batch 39 inserted successfully.\n",
      "Batch 40 inserted successfully.\n",
      "Batch 41 inserted successfully.\n",
      "Batch 42 inserted successfully.\n",
      "Batch 43 inserted successfully.\n",
      "Batch 44 inserted successfully.\n",
      "Batch 45 inserted successfully.\n",
      "Batch 46 inserted successfully.\n",
      "Batch 47 inserted successfully.\n",
      "Batch 48 inserted successfully.\n",
      "Batch 49 inserted successfully.\n",
      "Batch 50 inserted successfully.\n",
      "Batch 51 inserted successfully.\n",
      "Batch 52 inserted successfully.\n",
      "Batch 53 inserted successfully.\n",
      "Batch 54 inserted successfully.\n",
      "Batch 55 inserted successfully.\n",
      "Batch 56 inserted successfully.\n",
      "Batch 57 inserted successfully.\n",
      "Batch 58 inserted successfully.\n",
      "Batch 59 inserted successfully.\n",
      "Batch 60 inserted successfully.\n",
      "Batch 61 inserted successfully.\n",
      "Batch 62 inserted successfully.\n",
      "Batch 63 inserted successfully.\n",
      "Batch 64 inserted successfully.\n",
      "Batch 65 inserted successfully.\n",
      "Batch 66 inserted successfully.\n",
      "Batch 67 inserted successfully.\n",
      "Batch 68 inserted successfully.\n",
      "Batch 69 inserted successfully.\n",
      "Batch 70 inserted successfully.\n",
      "Batch 71 inserted successfully.\n",
      "Batch 72 inserted successfully.\n",
      "Batch 73 inserted successfully.\n"
     ]
    },
    {
     "data": {
      "text/plain": [
       "'Fecha_Transaccion_1'"
      ]
     },
     "execution_count": 41,
     "metadata": {},
     "output_type": "execute_result"
    }
   ],
   "source": [
    "# Convertir el DataFrame de Polars a Pandas\n",
    "df_top_10_pandas = df_top_10.to_pandas()\n",
    "\n",
    "collection = database[\"data_model\"]\n",
    "\n",
    "# Tamaño del lote\n",
    "batch_size = 10000\n",
    "\n",
    "# Convierte el DataFrame a una lista de diccionarios\n",
    "data_dict = df_top_10_pandas.to_dict(\"records\")\n",
    "\n",
    "# Inserta los documentos en lotes\n",
    "for i in range(0, len(data_dict), batch_size):\n",
    "    batch = data_dict[i:i + batch_size]\n",
    "    requests = [InsertOne(doc) for doc in batch]\n",
    "    try:\n",
    "        result = collection.bulk_write(requests)\n",
    "        print(f'Batch {i//batch_size + 1} inserted successfully.')\n",
    "    except Exception as e:\n",
    "        print(f'Error inserting batch {i//batch_size + 1}: {e}')\n",
    "\n",
    "\n",
    "# Crear índice en la columna Fecha_Clearing (solo fecha)\n",
    "collection.create_index([(\"Fecha_Transaccion\", 1)])"
   ]
  },
  {
   "cell_type": "code",
   "execution_count": null,
   "id": "cf039ae3-bd39-4a1a-8885-5c505b7c33f2",
   "metadata": {},
   "outputs": [],
   "source": []
  }
 ],
 "metadata": {
  "kernelspec": {
   "display_name": "Python 3 (ipykernel)",
   "language": "python",
   "name": "python3"
  },
  "language_info": {
   "codemirror_mode": {
    "name": "ipython",
    "version": 3
   },
   "file_extension": ".py",
   "mimetype": "text/x-python",
   "name": "python",
   "nbconvert_exporter": "python",
   "pygments_lexer": "ipython3",
   "version": "3.12.3"
  }
 },
 "nbformat": 4,
 "nbformat_minor": 5
}
