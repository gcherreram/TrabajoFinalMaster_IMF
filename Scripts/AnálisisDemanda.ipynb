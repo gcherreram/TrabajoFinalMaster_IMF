{
 "cells": [
  {
   "cell_type": "code",
   "execution_count": 1,
   "id": "0078644e-dd9a-4f01-ae5c-c437ae5aa5e6",
   "metadata": {},
   "outputs": [],
   "source": [
    "import polars as pl\n",
    "from pymongo import MongoClient\n",
    "from datetime import datetime\n",
    "\n",
    "import matplotlib.pyplot as plt\n",
    "import matplotlib.ticker as mticker\n",
    "import numpy as np\n",
    "import geopandas as gpd\n",
    "import matplotlib.cm as cm\n",
    "import contextily as ctx\n",
    "from ydata_profiling import ProfileReport"
   ]
  },
  {
   "cell_type": "code",
   "execution_count": 2,
   "id": "349858f7-55c0-4547-a24c-ca65060e9e1f",
   "metadata": {},
   "outputs": [],
   "source": [
    "# Conectar a MongoDB\n",
    "client = MongoClient(\"mongodb://localhost:27017/\")\n",
    "database = client[\"ETIB_TFM\"]\n",
    "collection = database[\"transactions\"]"
   ]
  },
  {
   "cell_type": "code",
   "execution_count": 3,
   "id": "59a87d3b-0f16-40e6-8ebb-91385e3f9a88",
   "metadata": {},
   "outputs": [
    {
     "name": "stdout",
     "output_type": "stream",
     "text": [
      "shape: (5, 23)\n",
      "┌────────────────┬─────────────┬────────────────┬────────────────┬───┬───────────────┬────────┬───────────────┬────────┐\n",
      "│ _id            ┆ Dispositivo ┆ Emisor         ┆ Estacion_Parad ┆ … ┆ Tipo_Vehiculo ┆ Valor  ┆ archivo       ┆ cenefa │\n",
      "│ ---            ┆ ---         ┆ ---            ┆ a              ┆   ┆ ---           ┆ ---    ┆ ---           ┆ ---    │\n",
      "│ object         ┆ str         ┆ str            ┆ ---            ┆   ┆ str           ┆ f64    ┆ str           ┆ str    │\n",
      "│                ┆             ┆                ┆ str            ┆   ┆               ┆        ┆               ┆        │\n",
      "╞════════════════╪═════════════╪════════════════╪════════════════╪═══╪═══════════════╪════════╪═══════════════╪════════╡\n",
      "│ 67471e1df909cb ┆ 220004413   ┆ (3101000)      ┆ (52973) 045A06 ┆ … ┆ (02) Urbano   ┆ 0.0    ┆ Validacion_01 ┆ 045A06 │\n",
      "│ e620eb3347     ┆             ┆ Bogota         ┆ _TM|045A06_Br. ┆   ┆               ┆        ┆ 7_E-SOMOS     ┆        │\n",
      "│                ┆             ┆ Card(Citizen)  ┆ S…             ┆   ┆               ┆        ┆ FONTIBO…      ┆        │\n",
      "│ 67471e31f909cb ┆ 220008315   ┆ (3200101)      ┆ (51346) 114B04 ┆ … ┆ (02) Urbano   ┆ 2950.0 ┆ Validacion_00 ┆ 114B04 │\n",
      "│ e620f34b11     ┆             ┆ Bancolombia    ┆ _TM|114B04_Br. ┆   ┆               ┆        ┆ 4_ESTE ES MI  ┆        │\n",
      "│                ┆             ┆                ┆ T…             ┆   ┆               ┆        ┆ BUS …         ┆        │\n",
      "│ 67471e2df909cb ┆ 220007464   ┆ (3101000)      ┆ (59109) 046B09 ┆ … ┆ (02) Urbano   ┆ 2950.0 ┆ Validacion_00 ┆ 046B09 │\n",
      "│ e620f1b9fc     ┆             ┆ Bogota         ┆ _TM|046B09_Hos ┆   ┆               ┆        ┆ 7_ETIB_202411 ┆        │\n",
      "│                ┆             ┆ Card(Citizen)  ┆ pi…            ┆   ┆               ┆        ┆ 10.c…         ┆        │\n",
      "│ 67471e2df909cb ┆ 220006774   ┆ (3101000)      ┆ (52485) 119B05 ┆ … ┆ (02) Urbano   ┆ 2950.0 ┆ Validacion_00 ┆ 119B05 │\n",
      "│ e620f1b9fd     ┆             ┆ Bogota         ┆ _TM|119B05_Col ┆   ┆               ┆        ┆ 7_ETIB_202411 ┆        │\n",
      "│                ┆             ┆ Card(Citizen)  ┆ is…            ┆   ┆               ┆        ┆ 10.c…         ┆        │\n",
      "│ 67471e2df909cb ┆ 220007464   ┆ (3101000)      ┆ (59109) 046B09 ┆ … ┆ (02) Urbano   ┆ 2950.0 ┆ Validacion_00 ┆ 046B09 │\n",
      "│ e620f1b9fe     ┆             ┆ Bogota         ┆ _TM|046B09_Hos ┆   ┆               ┆        ┆ 7_ETIB_202411 ┆        │\n",
      "│                ┆             ┆ Card(Citizen)  ┆ pi…            ┆   ┆               ┆        ┆ 10.c…         ┆        │\n",
      "└────────────────┴─────────────┴────────────────┴────────────────┴───┴───────────────┴────────┴───────────────┴────────┘\n"
     ]
    }
   ],
   "source": [
    "# Rango de fechas\n",
    "start_date = datetime(2024, 11, 11)\n",
    "end_date = datetime(2024, 11, 18)\n",
    "\n",
    "# Obtener los datos de MongoDB\n",
    "query = {\"Fecha_Transaccion\": {\"$gte\": start_date, \"$lt\": end_date}}\n",
    "cursor = collection.find(query)\n",
    "\n",
    "# Convertir los datos a un DataFrame de Polars\n",
    "df_polars = pl.DataFrame(cursor)\n",
    "\n",
    "# Mostrar las primeras filas del DataFrame\n",
    "print(df_polars.head())"
   ]
  },
  {
   "cell_type": "code",
   "execution_count": 4,
   "id": "0f24a00c-6907-4292-a450-6c0131d5795b",
   "metadata": {},
   "outputs": [],
   "source": [
    "df_polars = df_polars.with_columns([\n",
    "    pl.col('Fecha_Transaccion').dt.hour().alias('Hora'),\n",
    "    pl.col('Fecha_Transaccion').dt.weekday().alias('Dia_Semana'),  # 0=lunes, 6=domingo\n",
    "    pl.col('Fecha_Transaccion').dt.date().alias('Fecha')\n",
    "])"
   ]
  },
  {
   "cell_type": "code",
   "execution_count": 5,
   "id": "e582e1d4-3662-4bf2-9f60-b4b220d268dd",
   "metadata": {},
   "outputs": [
    {
     "name": "stderr",
     "output_type": "stream",
     "text": [
      "C:\\Users\\Gabo0\\AppData\\Local\\Temp\\ipykernel_1464\\3226129343.py:3: DeprecationWarning: `pl.count()` is deprecated. Please use `pl.len()` instead.\n",
      "  pl.count().alias('Numero_Transacciones')\n"
     ]
    }
   ],
   "source": [
    "# 1. Análisis de demanda por hora (picos de demanda)\n",
    "demanda_por_hora = df_polars.group_by('Hora').agg([\n",
    "    pl.count().alias('Numero_Transacciones')\n",
    "]).sort('Numero_Transacciones', descending=True)"
   ]
  },
  {
   "cell_type": "code",
   "execution_count": 6,
   "id": "9d43115c-d3c4-4e09-a294-41b2eff83561",
   "metadata": {},
   "outputs": [
    {
     "name": "stdout",
     "output_type": "stream",
     "text": [
      "Demanda por hora del día:\n",
      "shape: (24, 2)\n",
      "┌──────┬──────────────────────┐\n",
      "│ Hora ┆ Numero_Transacciones │\n",
      "│ ---  ┆ ---                  │\n",
      "│ i8   ┆ u32                  │\n",
      "╞══════╪══════════════════════╡\n",
      "│ 6    ┆ 1001329              │\n",
      "│ 17   ┆ 852590               │\n",
      "│ 7    ┆ 845777               │\n",
      "│ 16   ┆ 748849               │\n",
      "│ 5    ┆ 737468               │\n",
      "│ …    ┆ …                    │\n",
      "│ 23   ┆ 28693                │\n",
      "│ 3    ┆ 19796                │\n",
      "│ 0    ┆ 3225                 │\n",
      "│ 1    ┆ 285                  │\n",
      "│ 2    ┆ 110                  │\n",
      "└──────┴──────────────────────┘\n"
     ]
    }
   ],
   "source": [
    "# Mostrar los picos de demanda por hora\n",
    "print(\"Demanda por hora del día:\")\n",
    "print(demanda_por_hora)"
   ]
  },
  {
   "cell_type": "code",
   "execution_count": 7,
   "id": "db269b49-74bb-4707-b743-5f1bdca0fbe2",
   "metadata": {},
   "outputs": [
    {
     "name": "stderr",
     "output_type": "stream",
     "text": [
      "C:\\Users\\Gabo0\\AppData\\Local\\Temp\\ipykernel_1464\\533981743.py:3: DeprecationWarning: `pl.count()` is deprecated. Please use `pl.len()` instead.\n",
      "  pl.count().alias('Numero_Transacciones')\n"
     ]
    }
   ],
   "source": [
    "# 2. Análisis de demanda por día de la semana (identificar los días de mayor demanda)\n",
    "demanda_por_dia = df_polars.group_by('Dia_Semana').agg([\n",
    "    pl.count().alias('Numero_Transacciones')\n",
    "]).sort('Numero_Transacciones', descending=True)"
   ]
  },
  {
   "cell_type": "code",
   "execution_count": 8,
   "id": "3bd24462-54a5-440f-9d94-4de73f62baf6",
   "metadata": {},
   "outputs": [
    {
     "name": "stdout",
     "output_type": "stream",
     "text": [
      "Demanda por día de la semana:\n",
      "shape: (7, 2)\n",
      "┌────────────┬──────────────────────┐\n",
      "│ Dia_Semana ┆ Numero_Transacciones │\n",
      "│ ---        ┆ ---                  │\n",
      "│ i8         ┆ u32                  │\n",
      "╞════════════╪══════════════════════╡\n",
      "│ 3          ┆ 2071261              │\n",
      "│ 2          ┆ 2064361              │\n",
      "│ 5          ┆ 2044481              │\n",
      "│ 4          ┆ 2041624              │\n",
      "│ 6          ┆ 1444344              │\n",
      "│ 7          ┆ 817947               │\n",
      "│ 1          ┆ 769207               │\n",
      "└────────────┴──────────────────────┘\n"
     ]
    }
   ],
   "source": [
    "print(\"Demanda por día de la semana:\")\n",
    "print(demanda_por_dia)"
   ]
  },
  {
   "cell_type": "code",
   "execution_count": 9,
   "id": "be8db0c5-190e-496a-ae34-da2809ee06f0",
   "metadata": {},
   "outputs": [
    {
     "name": "stderr",
     "output_type": "stream",
     "text": [
      "C:\\Users\\Gabo0\\AppData\\Local\\Temp\\ipykernel_1464\\3956742158.py:3: DeprecationWarning: `pl.count()` is deprecated. Please use `pl.len()` instead.\n",
      "  pl.count().alias('Numero_Transacciones'),\n"
     ]
    },
    {
     "name": "stdout",
     "output_type": "stream",
     "text": [
      "Rutas con mayor número de transacciones:\n",
      "shape: (673, 3)\n",
      "┌─────────────────────────────────┬──────────────────────┬─────────────┐\n",
      "│ Ruta                            ┆ Numero_Transacciones ┆ Valor_Total │\n",
      "│ ---                             ┆ ---                  ┆ ---         │\n",
      "│ str                             ┆ u32                  ┆ f64         │\n",
      "╞═════════════════════════════════╪══════════════════════╪═════════════╡\n",
      "│ (7067) T13_20220711_Ida_V3      ┆ 93880                ┆ 2.1211835e8 │\n",
      "│ (8257) 94_20241028_V5           ┆ 81960                ┆ 1.82563e8   │\n",
      "│ (4992) T11_20201109_Ida_SN_V1   ┆ 77510                ┆ 1.558912e8  │\n",
      "│ (8164) SE6_20240826_V4          ┆ 75046                ┆ 1.589681e8  │\n",
      "│ (4509) 740_20201013_V1          ┆ 74445                ┆ 1.612265e8  │\n",
      "│ …                               ┆ …                    ┆ …           │\n",
      "│ (10006) 17-3_Cierre             ┆ 1                    ┆ 0.0         │\n",
      "│ (10358) 3-14 Uval Cierre        ┆ 1                    ┆ 0.0         │\n",
      "│ (11674) 16-9_Cierre             ┆ 1                    ┆ 2950.0      │\n",
      "│ (10359) 3-4 Alfonso Lopez Cier… ┆ 1                    ┆ 2950.0      │\n",
      "│ (10342) 16-12_Cierre            ┆ 1                    ┆ 2950.0      │\n",
      "└─────────────────────────────────┴──────────────────────┴─────────────┘\n"
     ]
    }
   ],
   "source": [
    "# 3. Análisis de la congestión por ruta (rutas más congestionadas)\n",
    "demanda_por_ruta = df_polars.group_by('Ruta').agg([\n",
    "    pl.count().alias('Numero_Transacciones'),\n",
    "    pl.sum('Valor').alias('Valor_Total')\n",
    "]).sort('Numero_Transacciones', descending=True)\n",
    "\n",
    "print(\"Rutas con mayor número de transacciones:\")\n",
    "print(demanda_por_ruta)"
   ]
  },
  {
   "cell_type": "code",
   "execution_count": 10,
   "id": "04eec716-6b6c-4629-933d-b207b2b13578",
   "metadata": {},
   "outputs": [
    {
     "name": "stderr",
     "output_type": "stream",
     "text": [
      "C:\\Users\\Gabo0\\AppData\\Local\\Temp\\ipykernel_1464\\2782864105.py:3: DeprecationWarning: `pl.count()` is deprecated. Please use `pl.len()` instead.\n",
      "  pl.count().alias('Numero_Transacciones')\n"
     ]
    },
    {
     "name": "stdout",
     "output_type": "stream",
     "text": [
      "Demanda por hora y ruta:\n",
      "shape: (11_316, 3)\n",
      "┌──────┬────────────────────────────────┬──────────────────────┐\n",
      "│ Hora ┆ Ruta                           ┆ Numero_Transacciones │\n",
      "│ ---  ┆ ---                            ┆ ---                  │\n",
      "│ i8   ┆ str                            ┆ u32                  │\n",
      "╞══════╪════════════════════════════════╪══════════════════════╡\n",
      "│ 23   ┆ (5813) 634_20210417_V1         ┆ 558                  │\n",
      "│ 23   ┆ (7071) CA117_20220628_V3       ┆ 481                  │\n",
      "│ 23   ┆ (10893) HC705                  ┆ 433                  │\n",
      "│ 23   ┆ (7011) 367_20220522_V3         ┆ 372                  │\n",
      "│ 23   ┆ (5224) 192_20201219_V2         ┆ 370                  │\n",
      "│ …    ┆ …                              ┆ …                    │\n",
      "│ 0    ┆ (5447) 11-4_20210306_V1        ┆ 1                    │\n",
      "│ 0    ┆ (5479) 11-10_20210306_V1       ┆ 1                    │\n",
      "│ 0    ┆ (7906) 56A_20231211_V3         ┆ 1                    │\n",
      "│ 0    ┆ (6120) C509_20210525_Ida_SN_V3 ┆ 1                    │\n",
      "│ 0    ┆ (10275) HA617                  ┆ 1                    │\n",
      "└──────┴────────────────────────────────┴──────────────────────┘\n"
     ]
    }
   ],
   "source": [
    "# 4. Análisis de demanda por hora y ruta para identificar congestión en picos específicos\n",
    "demanda_por_hora_y_ruta = df_polars.group_by(['Hora', 'Ruta']).agg([\n",
    "    pl.count().alias('Numero_Transacciones')\n",
    "]).sort(['Hora', 'Numero_Transacciones'], descending=True)\n",
    "\n",
    "print(\"Demanda por hora y ruta:\")\n",
    "print(demanda_por_hora_y_ruta)"
   ]
  },
  {
   "cell_type": "code",
   "execution_count": 11,
   "id": "49d40fa3-1fd6-4551-a846-582192402a63",
   "metadata": {
    "scrolled": true
   },
   "outputs": [
    {
     "data": {
      "image/png": "[encoded data removed]",
      "text/plain": [
       "<Figure size 1000x600 with 1 Axes>"
      ]
     },
     "metadata": {},
     "output_type": "display_data"
    },
    {
     "data": {
      "image/png": "[encoded data removed]",
      "text/plain": [
       "<Figure size 1000x600 with 1 Axes>"
      ]
     },
     "metadata": {},
     "output_type": "display_data"
    }
   ],
   "source": [
    "# 5. Visualización opcional (puedes usar librerías como matplotlib o seaborn para graficar)\n",
    "import matplotlib.pyplot as plt\n",
    "\n",
    "# Graficar la demanda por hora\n",
    "plt.figure(figsize=(10, 6))\n",
    "plt.bar(demanda_por_hora['Hora'], demanda_por_hora['Numero_Transacciones'])\n",
    "plt.xlabel('Hora del día')\n",
    "plt.ylabel('Número de transacciones')\n",
    "plt.title('Demanda de transporte público por hora')\n",
    "plt.show()\n",
    "\n",
    "# Graficar la demanda por día de la semana\n",
    "plt.figure(figsize=(10, 6))\n",
    "plt.bar(demanda_por_dia['Dia_Semana'], demanda_por_dia['Numero_Transacciones'])\n",
    "plt.xlabel('Día de la semana')\n",
    "plt.ylabel('Número de transacciones')\n",
    "plt.title('Demanda de transporte público por día de la semana')\n",
    "plt.show()"
   ]
  },
  {
   "cell_type": "code",
   "execution_count": 12,
   "id": "223fb8ad-3d54-4b9f-bc6c-eca5a7ad992a",
   "metadata": {},
   "outputs": [
    {
     "data": {
      "application/vnd.jupyter.widget-view+json": {
       "model_id": "a6cb6921ab9f4673a5dfe3a5e16cfefa",
       "version_major": 2,
       "version_minor": 0
      },
      "text/plain": [
       "Summarize dataset:   0%|          | 0/5 [00:00<?, ?it/s]"
      ]
     },
     "metadata": {},
     "output_type": "display_data"
    },
    {
     "data": {
      "application/vnd.jupyter.widget-view+json": {
       "model_id": "7beeca90d4d045c486f523057129531b",
       "version_major": 2,
       "version_minor": 0
      },
      "text/plain": [
       "Generate report structure:   0%|          | 0/1 [00:00<?, ?it/s]"
      ]
     },
     "metadata": {},
     "output_type": "display_data"
    },
    {
     "data": {
      "application/vnd.jupyter.widget-view+json": {
       "model_id": "5befe551d8754630940f5122624e0786",
       "version_major": 2,
       "version_minor": 0
      },
      "text/plain": [
       "Render HTML:   0%|          | 0/1 [00:00<?, ?it/s]"
      ]
     },
     "metadata": {},
     "output_type": "display_data"
    },
    {
     "data": {
      "application/vnd.jupyter.widget-view+json": {
       "model_id": "08dd76be2c5f47bba6b8bfc5ba3ca6c2",
       "version_major": 2,
       "version_minor": 0
      },
      "text/plain": [
       "Export report to file:   0%|          | 0/1 [00:00<?, ?it/s]"
      ]
     },
     "metadata": {},
     "output_type": "display_data"
    }
   ],
   "source": [
    "df_pandas = df_polars.to_pandas()\n",
    "df_pandas['Hora'] = df_pandas['Hora'].astype(str)\n",
    "df_pandas['Dia_Semana'] = df_pandas['Dia_Semana'].astype(str)\n",
    "profile = ProfileReport(df_pandas, title=\"Profiling Report\")\n",
    "profile.to_file(\"output.html\")"
   ]
  },
  {
   "cell_type": "code",
   "execution_count": 13,
   "id": "8bf89fe5-cc1a-44f1-8ea9-099847b88246",
   "metadata": {},
   "outputs": [
    {
     "data": {
      "application/vnd.jupyter.widget-view+json": {
       "model_id": "d91a481229ac427ea4cfdbca97d5b175",
       "version_major": 2,
       "version_minor": 0
      },
      "text/plain": [
       "Summarize dataset:   0%|          | 0/5 [00:00<?, ?it/s]"
      ]
     },
     "metadata": {},
     "output_type": "display_data"
    },
    {
     "data": {
      "application/vnd.jupyter.widget-view+json": {
       "model_id": "74224ef8a7904e89b2084cce742be117",
       "version_major": 2,
       "version_minor": 0
      },
      "text/plain": [
       "Generate report structure:   0%|          | 0/1 [00:00<?, ?it/s]"
      ]
     },
     "metadata": {},
     "output_type": "display_data"
    },
    {
     "data": {
      "application/vnd.jupyter.widget-view+json": {
       "model_id": "e8324cc8d6794a2188681bcb06908d89",
       "version_major": 2,
       "version_minor": 0
      },
      "text/plain": [
       "Render HTML:   0%|          | 0/1 [00:00<?, ?it/s]"
      ]
     },
     "metadata": {},
     "output_type": "display_data"
    },
    {
     "data": {
      "application/vnd.jupyter.widget-view+json": {
       "model_id": "cce571fec11f4995bec23a9df7d6f1a0",
       "version_major": 2,
       "version_minor": 0
      },
      "text/plain": [
       "Export report to file:   0%|          | 0/1 [00:00<?, ?it/s]"
      ]
     },
     "metadata": {},
     "output_type": "display_data"
    }
   ],
   "source": [
    "profile = ProfileReport(df_pandas, title=\"Profiling Report\", minimal=True)\n",
    "profile.to_file(\"output.html\")"
   ]
  },
  {
   "cell_type": "code",
   "execution_count": null,
   "id": "5ca916b1-2f5b-46ac-ac07-9781d16794cd",
   "metadata": {},
   "outputs": [],
   "source": []
  }
 ],
 "metadata": {
  "kernelspec": {
   "display_name": "Python 3 (ipykernel)",
   "language": "python",
   "name": "python3"
  },
  "language_info": {
   "codemirror_mode": {
    "name": "ipython",
    "version": 3
   },
   "file_extension": ".py",
   "mimetype": "text/x-python",
   "name": "python",
   "nbconvert_exporter": "python",
   "pygments_lexer": "ipython3",
   "version": "3.12.3"
  }
 },
 "nbformat": 4,
 "nbformat_minor": 5
}
